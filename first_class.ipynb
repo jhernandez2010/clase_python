{
 "cells": [
  {
   "cell_type": "code",
   "execution_count": 46,
   "id": "a533608e-6469-4055-9b5a-581b7827cde6",
   "metadata": {},
   "outputs": [],
   "source": [
    "import random\n"
   ]
  },
  {
   "cell_type": "code",
   "execution_count": 61,
   "id": "7d812a7f-b1d8-4b7d-b54f-17195f23fbd5",
   "metadata": {},
   "outputs": [
    {
     "name": "stdout",
     "output_type": "stream",
     "text": [
      "588\n",
      " the number is even \n"
     ]
    }
   ],
   "source": [
    "myvariable=(random.randint(1,1000))\n",
    "print (myvariable)\n",
    "if myvariable%2 == 0:\n",
    "    print(\" the number is even \")\n",
    "else :\n",
    "    print(\" the number is odd \")"
   ]
  }
 ],
 "metadata": {
  "kernelspec": {
   "display_name": "Python 3 (ipykernel)",
   "language": "python",
   "name": "python3"
  },
  "language_info": {
   "codemirror_mode": {
    "name": "ipython",
    "version": 3
   },
   "file_extension": ".py",
   "mimetype": "text/x-python",
   "name": "python",
   "nbconvert_exporter": "python",
   "pygments_lexer": "ipython3",
   "version": "3.7.12"
  }
 },
 "nbformat": 4,
 "nbformat_minor": 5
}
